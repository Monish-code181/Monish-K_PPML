{
 "cells": [
  {
   "cell_type": "code",
   "execution_count": 20,
   "id": "1e8bb98c",
   "metadata": {},
   "outputs": [
    {
     "name": "stdout",
     "output_type": "stream",
     "text": [
      "\n",
      " Original DataFrame:\n",
      "       Name Category  value  score\n",
      "0    Alice        A      2     90\n",
      "1      Bob        B      3     78\n",
      "2  Charlie        C      1     85\n",
      "3    Alice        A      3     84\n",
      "4      Bob        B      3     92\n",
      "5  Charlie        c      4     82\n"
     ]
    }
   ],
   "source": [
    "import numpy as np\n",
    "import pandas as pd\n",
    "df=pd.DataFrame({'Name':['Alice','Bob','Charlie','Alice','Bob','Charlie'],'Category':['A','B','C','A','B','c'],'value':np.random.randint(1,5,size=6),'score':np.random.randint(60,100,size=6)})\n",
    "print(\"\\n Original DataFrame:\\n\",df)"
   ]
  },
  {
   "cell_type": "code",
   "execution_count": 21,
   "id": "9c62c38c",
   "metadata": {},
   "outputs": [
    {
     "name": "stdout",
     "output_type": "stream",
     "text": [
      "\n",
      " Group by Name and Aggregation with one column sum:\n",
      "       Name  value\n",
      "0    Alice      5\n",
      "1      Bob      6\n",
      "2  Charlie      5\n"
     ]
    }
   ],
   "source": [
    "df1=df.groupby(('Name'),as_index=False)['value'].sum()\n",
    "print(\"\\n Group by Name and Aggregation with one column sum:\\n\",df1)"
   ]
  },
  {
   "cell_type": "code",
   "execution_count": 22,
   "id": "db702701",
   "metadata": {},
   "outputs": [
    {
     "name": "stdout",
     "output_type": "stream",
     "text": [
      "\n",
      "Group by name and Aggregation with two column:\n",
      "       Name  value  score\n",
      "0    Alice      5    174\n",
      "1      Bob      6    170\n",
      "2  Charlie      5    167\n"
     ]
    }
   ],
   "source": [
    "df2=df.groupby(('Name'),as_index=False)[['value','score']].sum() \n",
    "print(\"\\nGroup by name and Aggregation with two column:\\n\",df2) "
   ]
  },
  {
   "cell_type": "code",
   "execution_count": 29,
   "id": "27011f85",
   "metadata": {},
   "outputs": [
    {
     "name": "stdout",
     "output_type": "stream",
     "text": [
      "\n",
      "Group by name and Aggregation with one column using agg function:\n",
      "       Name  value\n",
      "0    Alice      5\n",
      "1      Bob      6\n",
      "2  Charlie      5\n"
     ]
    }
   ],
   "source": [
    "df3=df.groupby(('Name'),as_index=False)['value'].agg('sum') \n",
    "print(\"\\nGroup by name and Aggregation with one column using agg function:\\n\",df3) "
   ]
  },
  {
   "cell_type": "code",
   "execution_count": 32,
   "id": "77202025",
   "metadata": {},
   "outputs": [
    {
     "name": "stdout",
     "output_type": "stream",
     "text": [
      "\n",
      "Group by name and multiple Aggregation functions :\n",
      "         value              score      \n",
      "          sum mean min max   sum  mean\n",
      "Name                                  \n",
      "Alice       5  2.5   2   3   174  87.0\n",
      "Bob         6  3.0   3   3   170  85.0\n",
      "Charlie     5  2.5   1   4   167  83.5\n"
     ]
    }
   ],
   "source": [
    "df4 = df.groupby('Name').agg({ \n",
    "'value': ['sum', 'mean', 'min', 'max'], \n",
    "'score': ['sum', 'mean']}) \n",
    "print(\"\\nGroup by name and multiple Aggregation functions :\\n\", df4) "
   ]
  },
  {
   "cell_type": "code",
   "execution_count": 33,
   "id": "d9f85a1c",
   "metadata": {},
   "outputs": [
    {
     "name": "stdout",
     "output_type": "stream",
     "text": [
      "\n",
      " group and count:\n",
      "       Name  value\n",
      "0    Alice      2\n",
      "1      Bob      2\n",
      "2  Charlie      2\n"
     ]
    }
   ],
   "source": [
    "df5=df.groupby(('Name'),as_index=False)['value'].count()\n",
    "print(\"\\n group and count:\\n\",df5)"
   ]
  },
  {
   "cell_type": "code",
   "execution_count": 34,
   "id": "e2c774b1",
   "metadata": {},
   "outputs": [
    {
     "name": "stdout",
     "output_type": "stream",
     "text": [
      "\n",
      " Group and count:\n",
      "          Category  value  score\n",
      "Name                           \n",
      "Alice           2      2      2\n",
      "Bob             2      2      2\n",
      "Charlie         2      2      2\n"
     ]
    }
   ],
   "source": [
    "df6=df.groupby(('Name')).count()\n",
    "print(\"\\n Group and count:\\n\",df6)"
   ]
  },
  {
   "cell_type": "code",
   "execution_count": 36,
   "id": "bb7833b9",
   "metadata": {},
   "outputs": [
    {
     "name": "stdout",
     "output_type": "stream",
     "text": [
      "\n",
      " group and display from first:\n",
      "       Name  value\n",
      "0    Alice      2\n",
      "1      Bob      3\n",
      "2  Charlie      1\n"
     ]
    }
   ],
   "source": [
    "df7=df.groupby(('Name'),as_index=False)['value'].first()\n",
    "print(\"\\n group and display from first:\\n\",df7)"
   ]
  },
  {
   "cell_type": "code",
   "execution_count": 37,
   "id": "8b91807b",
   "metadata": {},
   "outputs": [
    {
     "name": "stdout",
     "output_type": "stream",
     "text": [
      "\n",
      " group and display from first:\n",
      "         Category  value  score\n",
      "Name                          \n",
      "Alice          A      2     90\n",
      "Bob            B      3     78\n",
      "Charlie        C      1     85\n"
     ]
    }
   ],
   "source": [
    "df8=df.groupby(('Name')).first()\n",
    "print(\"\\n group and display from first:\\n\",df8)"
   ]
  },
  {
   "cell_type": "code",
   "execution_count": 39,
   "id": "5492625f",
   "metadata": {},
   "outputs": [
    {
     "name": "stdout",
     "output_type": "stream",
     "text": [
      "\n",
      " group and display from last:\n",
      "       Name  value\n",
      "0    Alice      3\n",
      "1      Bob      3\n",
      "2  Charlie      4\n"
     ]
    }
   ],
   "source": [
    "df9=df.groupby(('Name'),as_index=False)['value'].last()\n",
    "print(\"\\n group and display from last:\\n\",df9)"
   ]
  },
  {
   "cell_type": "code",
   "execution_count": 4,
   "id": "03070f8e",
   "metadata": {},
   "outputs": [
    {
     "name": "stdout",
     "output_type": "stream",
     "text": [
      "\n",
      " group and display from last:\n",
      "         Category  value  score\n",
      "Name                          \n",
      "Alice          A      3     86\n",
      "Bob            B      1     80\n",
      "Charlie        c      2     93\n"
     ]
    }
   ],
   "source": [
    "import numpy as np\n",
    "import pandas as pd\n",
    "df=pd.DataFrame({'Name':['Alice','Bob','Charlie','Alice','Bob','Charlie'],'Category':['A','B','C','A','B','c'],'value':np.random.randint(1,5,size=6),'score':np.random.randint(60,100,size=6)})\n",
    "df10=df.groupby(('Name')).last()\n",
    "print(\"\\n group and display from last:\\n\",df10)"
   ]
  },
  {
   "cell_type": "code",
   "execution_count": 6,
   "id": "7282abd3",
   "metadata": {},
   "outputs": [
    {
     "name": "stdout",
     "output_type": "stream",
     "text": [
      "\n",
      " group and display from size:\n",
      " Name\n",
      "Alice      2\n",
      "Bob        2\n",
      "Charlie    2\n",
      "dtype: int64\n"
     ]
    }
   ],
   "source": [
    "df11=df.groupby(('Name')).size()\n",
    "print(\"\\n group and display from size:\\n\",df11)"
   ]
  },
  {
   "cell_type": "code",
   "execution_count": 7,
   "id": "2a4eb5e8",
   "metadata": {},
   "outputs": [
    {
     "name": "stdout",
     "output_type": "stream",
     "text": [
      "\n",
      " group and display from size:\n",
      "       Name  size\n",
      "0    Alice     2\n",
      "1      Bob     2\n",
      "2  Charlie     2\n"
     ]
    }
   ],
   "source": [
    "df12=df.groupby(('Name'),as_index=False)['value'].size()\n",
    "print(\"\\n group and display from size:\\n\",df12)"
   ]
  },
  {
   "cell_type": "code",
   "execution_count": null,
   "id": "5a874789",
   "metadata": {},
   "outputs": [],
   "source": []
  }
 ],
 "metadata": {
  "kernelspec": {
   "display_name": "Python 3 (ipykernel)",
   "language": "python",
   "name": "python3"
  },
  "language_info": {
   "codemirror_mode": {
    "name": "ipython",
    "version": 3
   },
   "file_extension": ".py",
   "mimetype": "text/x-python",
   "name": "python",
   "nbconvert_exporter": "python",
   "pygments_lexer": "ipython3",
   "version": "3.11.3"
  }
 },
 "nbformat": 4,
 "nbformat_minor": 5
}

