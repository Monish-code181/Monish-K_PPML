{
 "cells": [
  {
   "cell_type": "code",
   "execution_count": 5,
   "id": "79526344",
   "metadata": {},
   "outputs": [
    {
     "name": "stdout",
     "output_type": "stream",
     "text": [
      "Date Index \n",
      " 2011-01-02    0.153577\n",
      "2011-01-05    0.876315\n",
      "2011-01-07    0.655689\n",
      "2011-01-08   -0.998010\n",
      "2011-01-10   -0.086165\n",
      "2011-01-12   -0.350940\n",
      "dtype: float64\n"
     ]
    }
   ],
   "source": [
    "import pandas as pd\n",
    "import numpy as np\n",
    "from datetime import datetime\n",
    "\n",
    "#create a date variable that contains the dates\n",
    "dates = [datetime(2011, 1, 2),\n",
    "         datetime(2011, 1, 5),\n",
    "         datetime(2011, 1, 7),\n",
    "         datetime(2011, 1, 8),\n",
    "         datetime(2011, 1, 10),\n",
    "         datetime(2011, 1, 12)]\n",
    "\n",
    "#with this date object, create a series\n",
    "ts = pd.Series(np.random.randn(6), index=dates)\n",
    "print(\"Date Index \\n\",ts)\n"
   ]
  },
  {
   "cell_type": "code",
   "execution_count": 6,
   "id": "1d5f67d9",
   "metadata": {},
   "outputs": [
    {
     "name": "stdout",
     "output_type": "stream",
     "text": [
      "\n",
      "Date Index alone from the series: \n",
      " DatetimeIndex(['2011-01-02', '2011-01-05', '2011-01-07', '2011-01-08',\n",
      "               '2011-01-10', '2011-01-12'],\n",
      "              dtype='datetime64[ns]', freq=None)\n"
     ]
    }
   ],
   "source": [
    "print(\"\\nDate Index alone from the series: \\n\",ts.index)\n"
   ]
  },
  {
   "cell_type": "code",
   "execution_count": 7,
   "id": "090b146e",
   "metadata": {},
   "outputs": [
    {
     "name": "stdout",
     "output_type": "stream",
     "text": [
      "\n",
      "Second index:\n",
      " 2011-01-07 00:00:00\n"
     ]
    }
   ],
   "source": [
    "stamp=ts.index[2]\n",
    "print(\"\\nSecond index:\\n\", stamp)\n"
   ]
  },
  {
   "cell_type": "code",
   "execution_count": 8,
   "id": "7c31a73d",
   "metadata": {},
   "outputs": [
    {
     "name": "stdout",
     "output_type": "stream",
     "text": [
      "\n",
      "Daterange up to 1000 days:\n",
      " 2000-01-01    0.641645\n",
      "2000-01-02   -0.256729\n",
      "2000-01-03    0.082512\n",
      "2000-01-04    0.525474\n",
      "2000-01-05   -0.118723\n",
      "                ...   \n",
      "2002-09-22   -0.092056\n",
      "2002-09-23   -0.288820\n",
      "2002-09-24   -0.854934\n",
      "2002-09-25   -1.874177\n",
      "2002-09-26   -1.234924\n",
      "Freq: D, Length: 1000, dtype: float64\n"
     ]
    }
   ],
   "source": [
    "#play like a ball with long-times series\n",
    "longer_ts=pd.Series(np.random.randn(1000),\n",
    "                    index=pd.date_range(\"2000-01-01\",periods=1000))\n",
    "print(\"\\nDaterange up to 1000 days:\\n\",longer_ts)\n"
   ]
  },
  {
   "cell_type": "code",
   "execution_count": 9,
   "id": "a34e7834",
   "metadata": {},
   "outputs": [
    {
     "name": "stdout",
     "output_type": "stream",
     "text": [
      "\n",
      "Date range-2001 year:\n",
      " 2001-01-01   -0.064113\n",
      "2001-01-02    2.040340\n",
      "2001-01-03    0.100939\n",
      "2001-01-04    1.007027\n",
      "2001-01-05    0.461715\n",
      "                ...   \n",
      "2001-12-27    2.932392\n",
      "2001-12-28   -0.978805\n",
      "2001-12-29    0.094553\n",
      "2001-12-30    1.254312\n",
      "2001-12-31   -0.597878\n",
      "Freq: D, Length: 365, dtype: float64\n"
     ]
    }
   ],
   "source": [
    "print(\"\\nDate range-2001 year:\\n\", longer_ts[\"2001\"])\n"
   ]
  },
  {
   "cell_type": "code",
   "execution_count": 10,
   "id": "3416eea3",
   "metadata": {},
   "outputs": [
    {
     "name": "stdout",
     "output_type": "stream",
     "text": [
      "\n",
      "Date range-05 month 2001 year:\n",
      " 2001-05-01    0.743360\n",
      "2001-05-02    0.446956\n",
      "2001-05-03   -0.214028\n",
      "2001-05-04    0.063576\n",
      "2001-05-05   -0.289755\n",
      "2001-05-06    0.167757\n",
      "2001-05-07   -0.525692\n",
      "2001-05-08    0.261304\n",
      "2001-05-09   -0.527636\n",
      "2001-05-10    1.311461\n",
      "2001-05-11    0.958668\n",
      "2001-05-12    0.614002\n",
      "2001-05-13   -0.865805\n",
      "2001-05-14   -0.121025\n",
      "2001-05-15   -0.518862\n",
      "2001-05-16   -0.372504\n",
      "2001-05-17   -2.367576\n",
      "2001-05-18   -0.677058\n",
      "2001-05-19    0.539098\n",
      "2001-05-20   -0.182443\n",
      "2001-05-21   -1.058055\n",
      "2001-05-22   -0.402422\n",
      "2001-05-23   -1.696751\n",
      "2001-05-24   -0.062852\n",
      "2001-05-25    0.219686\n",
      "2001-05-26    0.211528\n",
      "2001-05-27   -0.303743\n",
      "2001-05-28   -0.645719\n",
      "2001-05-29   -1.500252\n",
      "2001-05-30   -0.623091\n",
      "2001-05-31    0.806590\n",
      "Freq: D, dtype: float64\n"
     ]
    }
   ],
   "source": [
    "print(\"\\nDate range-05 month 2001 year:\\n\", longer_ts[\"2001-05\"])\n"
   ]
  },
  {
   "cell_type": "code",
   "execution_count": 11,
   "id": "abffda86",
   "metadata": {},
   "outputs": [
    {
     "name": "stdout",
     "output_type": "stream",
     "text": [
      "\n",
      "Date range-first few dates in 2000 year:\n",
      " 2000-01-01    0.641645\n",
      "2000-01-02   -0.256729\n",
      "2000-01-03    0.082512\n",
      "2000-01-04    0.525474\n",
      "2000-01-05   -0.118723\n",
      "Freq: D, dtype: float64\n"
     ]
    }
   ],
   "source": [
    "print(\"\\nDate range-first few dates in 2000 year:\\n\",longer_ts[\"2000\"].head())\n"
   ]
  },
  {
   "cell_type": "code",
   "execution_count": 12,
   "id": "33759c57",
   "metadata": {},
   "outputs": [
    {
     "name": "stdout",
     "output_type": "stream",
     "text": [
      "\n",
      "Date range-first 15 dates in 02 month 2001 year:\n",
      " 2000-02-01   -1.217323\n",
      "2000-02-02    0.083859\n",
      "2000-02-03    0.751602\n",
      "2000-02-04    1.414736\n",
      "2000-02-05   -0.086972\n",
      "2000-02-06   -2.283476\n",
      "2000-02-07   -0.810131\n",
      "2000-02-08    1.339136\n",
      "2000-02-09    0.862616\n",
      "2000-02-10    0.395104\n",
      "2000-02-11    2.014274\n",
      "2000-02-12    1.189114\n",
      "2000-02-13    0.870767\n",
      "2000-02-14    1.461324\n",
      "2000-02-15   -0.756883\n",
      "Freq: D, dtype: float64\n"
     ]
    }
   ],
   "source": [
    "print(\"\\nDate range-first 15 dates in 02 month 2001 year:\\n\",longer_ts[\"2000-02\"].head(15))\n"
   ]
  },
  {
   "cell_type": "code",
   "execution_count": 13,
   "id": "c76695a9",
   "metadata": {},
   "outputs": [
    {
     "name": "stdout",
     "output_type": "stream",
     "text": [
      "\n",
      "Date range-rom 26-9-2001:\n",
      " 2000-09-26   -0.509604\n",
      "2000-09-27   -0.697467\n",
      "2000-09-28   -0.469044\n",
      "2000-09-29    0.922194\n",
      "2000-09-30    0.476912\n",
      "                ...   \n",
      "2002-09-22   -0.092056\n",
      "2002-09-23   -0.288820\n",
      "2002-09-24   -0.854934\n",
      "2002-09-25   -1.874177\n",
      "2002-09-26   -1.234924\n",
      "Freq: D, Length: 731, dtype: float64\n"
     ]
    }
   ],
   "source": [
    "print(\"\\nDate range-rom 26-9-2001:\\n\",longer_ts[datetime(2000,9,26):])\n"
   ]
  },
  {
   "cell_type": "code",
   "execution_count": 15,
   "id": "3fe6a177",
   "metadata": {},
   "outputs": [
    {
     "name": "stdout",
     "output_type": "stream",
     "text": [
      "\n",
      "Date range from 26-9-2001 to 25-9- 2002:\n",
      " 2001-09-26   -1.163894\n",
      "2001-09-27   -1.155722\n",
      "2001-09-28    0.956177\n",
      "2001-09-29   -1.041988\n",
      "2001-09-30   -0.734038\n",
      "                ...   \n",
      "2002-09-21    0.180592\n",
      "2002-09-22   -0.092056\n",
      "2002-09-23   -0.288820\n",
      "2002-09-24   -0.854934\n",
      "2002-09-25   -1.874177\n",
      "Freq: D, Length: 365, dtype: float64\n"
     ]
    }
   ],
   "source": [
    "print(\"\\nDate range from 26-9-2001 to 25-9- 2002:\\n\",longer_ts[datetime(2001,9,26):datetime(2002,9,25)])\n"
   ]
  },
  {
   "cell_type": "code",
   "execution_count": null,
   "id": "bb96ce8c",
   "metadata": {},
   "outputs": [],
   "source": []
  }
 ],
 "metadata": {
  "kernelspec": {
   "display_name": "Python 3 (ipykernel)",
   "language": "python",
   "name": "python3"
  },
  "language_info": {
   "codemirror_mode": {
    "name": "ipython",
    "version": 3
   },
   "file_extension": ".py",
   "mimetype": "text/x-python",
   "name": "python",
   "nbconvert_exporter": "python",
   "pygments_lexer": "ipython3",
   "version": "3.11.3"
  }
 },
 "nbformat": 4,
 "nbformat_minor": 5
}

